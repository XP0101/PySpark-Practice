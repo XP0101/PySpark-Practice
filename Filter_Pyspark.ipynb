{
  "nbformat": 4,
  "nbformat_minor": 0,
  "metadata": {
    "colab": {
      "provenance": []
    },
    "kernelspec": {
      "name": "python3",
      "display_name": "Python 3"
    },
    "language_info": {
      "name": "python"
    }
  },
  "cells": [
    {
      "cell_type": "code",
      "execution_count": null,
      "metadata": {
        "colab": {
          "base_uri": "https://localhost:8080/"
        },
        "id": "gCCUlOinYdOI",
        "outputId": "42292609-fe74-458b-ed41-ff152fc1bf05"
      },
      "outputs": [
        {
          "output_type": "stream",
          "name": "stdout",
          "text": [
            "Looking in indexes: https://pypi.org/simple, https://us-python.pkg.dev/colab-wheels/public/simple/\n",
            "Collecting pyspark\n",
            "  Downloading pyspark-3.4.0.tar.gz (310.8 MB)\n",
            "\u001b[2K     \u001b[90m━━━━━━━━━━━━━━━━━━━━━━━━━━━━━━━━━━━━━━━\u001b[0m \u001b[32m310.8/310.8 MB\u001b[0m \u001b[31m4.4 MB/s\u001b[0m eta \u001b[36m0:00:00\u001b[0m\n",
            "\u001b[?25h  Preparing metadata (setup.py) ... \u001b[?25l\u001b[?25hdone\n",
            "Requirement already satisfied: py4j==0.10.9.7 in /usr/local/lib/python3.9/dist-packages (from pyspark) (0.10.9.7)\n",
            "Building wheels for collected packages: pyspark\n",
            "  Building wheel for pyspark (setup.py) ... \u001b[?25l\u001b[?25hdone\n",
            "  Created wheel for pyspark: filename=pyspark-3.4.0-py2.py3-none-any.whl size=311317145 sha256=4fa43b4317c03eca3d473a841f5b9ace0c8bf8a4ec4fe255f9130ca39a7da42f\n",
            "  Stored in directory: /root/.cache/pip/wheels/9f/34/a4/159aa12d0a510d5ff7c8f0220abbea42e5d81ecf588c4fd884\n",
            "Successfully built pyspark\n",
            "Installing collected packages: pyspark\n",
            "Successfully installed pyspark-3.4.0\n"
          ]
        }
      ],
      "source": [
        "!pip install pyspark"
      ]
    },
    {
      "cell_type": "code",
      "source": [
        "from pyspark.sql import SparkSession\n",
        "from pyspark.sql.functions import col, expr,size, max, length, min, lower, explode, array_contains\n",
        "spark = SparkSession.builder.getOrCreate()"
      ],
      "metadata": {
        "id": "VGOsgpXwhKkD"
      },
      "execution_count": null,
      "outputs": []
    },
    {
      "cell_type": "code",
      "source": [
        "spark"
      ],
      "metadata": {
        "colab": {
          "base_uri": "https://localhost:8080/",
          "height": 219
        },
        "id": "WGM0nVstrnIo",
        "outputId": "75308e33-d5fd-4a76-ceac-fe3fb2926e11"
      },
      "execution_count": null,
      "outputs": [
        {
          "output_type": "execute_result",
          "data": {
            "text/plain": [
              "<pyspark.sql.session.SparkSession at 0x7f0ae3d4ffd0>"
            ],
            "text/html": [
              "\n",
              "            <div>\n",
              "                <p><b>SparkSession - in-memory</b></p>\n",
              "                \n",
              "        <div>\n",
              "            <p><b>SparkContext</b></p>\n",
              "\n",
              "            <p><a href=\"http://8416d034e0d5:4040\">Spark UI</a></p>\n",
              "\n",
              "            <dl>\n",
              "              <dt>Version</dt>\n",
              "                <dd><code>v3.4.0</code></dd>\n",
              "              <dt>Master</dt>\n",
              "                <dd><code>local[*]</code></dd>\n",
              "              <dt>AppName</dt>\n",
              "                <dd><code>pyspark-shell</code></dd>\n",
              "            </dl>\n",
              "        </div>\n",
              "        \n",
              "            </div>\n",
              "        "
            ]
          },
          "metadata": {},
          "execution_count": 45
        }
      ]
    },
    {
      "cell_type": "code",
      "source": [
        "df = spark.read.json(\"movies.json\")"
      ],
      "metadata": {
        "id": "lj6M9taZgivP"
      },
      "execution_count": null,
      "outputs": []
    },
    {
      "cell_type": "code",
      "source": [
        "df.head(5)"
      ],
      "metadata": {
        "colab": {
          "base_uri": "https://localhost:8080/"
        },
        "id": "B5VAM7ZPrLap",
        "outputId": "047fb022-0c85-4d39-98c6-8bd2543c8424"
      },
      "execution_count": null,
      "outputs": [
        {
          "output_type": "execute_result",
          "data": {
            "text/plain": [
              "[Row(cast=[], genres=[], title='After Dark in Central Park', year=1900),\n",
              " Row(cast=[], genres=[], title=\"Boarding School Girls' Pajama Parade\", year=1900),\n",
              " Row(cast=[], genres=[], title=\"Buffalo Bill's Wild West Parad\", year=1900),\n",
              " Row(cast=[], genres=[], title='Caught', year=1900),\n",
              " Row(cast=[], genres=[], title='Clowns Spinning Hats', year=1900)]"
            ]
          },
          "metadata": {},
          "execution_count": 44
        }
      ]
    },
    {
      "cell_type": "code",
      "source": [
        "df.printSchema()"
      ],
      "metadata": {
        "colab": {
          "base_uri": "https://localhost:8080/"
        },
        "id": "73V5bkW5rKNS",
        "outputId": "141f85cd-55b6-40bb-9044-7e2c53d7306f"
      },
      "execution_count": null,
      "outputs": [
        {
          "output_type": "stream",
          "name": "stdout",
          "text": [
            "root\n",
            " |-- cast: array (nullable = true)\n",
            " |    |-- element: string (containsNull = true)\n",
            " |-- genres: array (nullable = true)\n",
            " |    |-- element: string (containsNull = true)\n",
            " |-- title: string (nullable = true)\n",
            " |-- year: long (nullable = true)\n",
            "\n"
          ]
        }
      ]
    },
    {
      "cell_type": "code",
      "source": [
        "df.describe().show()"
      ],
      "metadata": {
        "colab": {
          "base_uri": "https://localhost:8080/"
        },
        "id": "9talblWVry0o",
        "outputId": "676415ff-8852-4348-ad09-08c8923e42b3"
      },
      "execution_count": null,
      "outputs": [
        {
          "output_type": "stream",
          "name": "stdout",
          "text": [
            "+-------+-----------------+------------------+\n",
            "|summary|            title|              year|\n",
            "+-------+-----------------+------------------+\n",
            "|  count|            28795|             28795|\n",
            "|   mean|         Infinity|1959.9489841986456|\n",
            "| stddev|              NaN| 31.12544556684899|\n",
            "|    min|    $ aka Dollars|              1900|\n",
            "|    max|…First Do No Harm|              2018|\n",
            "+-------+-----------------+------------------+\n",
            "\n"
          ]
        }
      ]
    },
    {
      "cell_type": "markdown",
      "source": [
        "### Phần trả lời câu hỏi"
      ],
      "metadata": {
        "id": "1nLIkpdmsOOS"
      }
    },
    {
      "cell_type": "markdown",
      "source": [
        "1. Số lượng phim khác nhau trong tập dữ liệu ?"
      ],
      "metadata": {
        "id": "cNbmGCz_iLJ2"
      }
    },
    {
      "cell_type": "code",
      "source": [
        "df.distinct().count()"
      ],
      "metadata": {
        "colab": {
          "base_uri": "https://localhost:8080/"
        },
        "id": "OZjeoRudgs9W",
        "outputId": "cd41552e-c009-4d52-94bb-4a0bd75c51b7"
      },
      "execution_count": null,
      "outputs": [
        {
          "output_type": "execute_result",
          "data": {
            "text/plain": [
              "28789"
            ]
          },
          "metadata": {},
          "execution_count": 7
        }
      ]
    },
    {
      "cell_type": "code",
      "source": [
        "df.selectExpr(\"count(distinct(title)) as Distinct_films\").show()"
      ],
      "metadata": {
        "colab": {
          "base_uri": "https://localhost:8080/"
        },
        "id": "z00yLKzWhwCK",
        "outputId": "eeb01d08-41ad-40f3-a07f-35bcd4dfd5ba"
      },
      "execution_count": null,
      "outputs": [
        {
          "output_type": "stream",
          "name": "stdout",
          "text": [
            "+--------------+\n",
            "|Distinct_films|\n",
            "+--------------+\n",
            "|         26791|\n",
            "+--------------+\n",
            "\n"
          ]
        }
      ]
    },
    {
      "cell_type": "markdown",
      "source": [
        "2. Số lượng Phim được phát hành trong năm 2015"
      ],
      "metadata": {
        "id": "-ChBfkRTiXsl"
      }
    },
    {
      "cell_type": "code",
      "source": [
        "df.where(expr(\"year==2015\")).distinct().count()"
      ],
      "metadata": {
        "colab": {
          "base_uri": "https://localhost:8080/"
        },
        "id": "sR_Zoy1ph8gm",
        "outputId": "7f5e4d66-80f2-415c-83b6-da7868671f2d"
      },
      "execution_count": null,
      "outputs": [
        {
          "output_type": "execute_result",
          "data": {
            "text/plain": [
              "130"
            ]
          },
          "metadata": {},
          "execution_count": 11
        }
      ]
    },
    {
      "cell_type": "markdown",
      "source": [
        "3. Năm phát hành phim nhiều nhất là năm nào ?"
      ],
      "metadata": {
        "id": "lUNghHVMi1Js"
      }
    },
    {
      "cell_type": "code",
      "source": [
        "df.groupBy('year').count().orderBy(col('count').desc()).limit(1).show()"
      ],
      "metadata": {
        "colab": {
          "base_uri": "https://localhost:8080/"
        },
        "id": "JNPRbZjCmA4P",
        "outputId": "4a2e677c-0293-42ec-bbb9-abb194b79762"
      },
      "execution_count": null,
      "outputs": [
        {
          "output_type": "stream",
          "name": "stdout",
          "text": [
            "+----+-----+\n",
            "|year|count|\n",
            "+----+-----+\n",
            "|1919|  634|\n",
            "+----+-----+\n",
            "\n"
          ]
        }
      ]
    },
    {
      "cell_type": "markdown",
      "source": [
        "4. Hãy tìm ra những bộ phim có ít nhất 10 diễn viên và chỉ thuộc 1 thể loại"
      ],
      "metadata": {
        "id": "DC4Z68WpjJ6Y"
      }
    },
    {
      "cell_type": "code",
      "source": [
        "df.where(size(df['cast']) >= 10).where(size(df['genres']) == 1).show()"
      ],
      "metadata": {
        "colab": {
          "base_uri": "https://localhost:8080/"
        },
        "id": "A0O8dxnFmRKc",
        "outputId": "41a9e48f-fd2d-444a-ba34-efdae8619df5"
      },
      "execution_count": null,
      "outputs": [
        {
          "output_type": "stream",
          "name": "stdout",
          "text": [
            "+--------------------+-------------+--------------------+----+\n",
            "|                cast|       genres|               title|year|\n",
            "+--------------------+-------------+--------------------+----+\n",
            "|[Walter Huston, (...|      [Drama]|           Dodsworth|1936|\n",
            "|[Joan Crawford, R...|      [Drama]|  The Gorgeous Hussy|1936|\n",
            "|[Norma Shearer, (...|      [Drama]|    Romeo and Juliet|1936|\n",
            "|[John Wayne, Robe...|      [Drama]|The High and the ...|1954|\n",
            "|[Richard Widmark,...|      [Drama]|          The Cobweb|1955|\n",
            "|[Henry Fonda, Cha...|      [Drama]|    Advise & Consent|1962|\n",
            "|[Spencer Tracy, M...|     [Comedy]|It's a Mad, Mad, ...|1963|\n",
            "|[Lee Marvin, Char...|        [War]|     The Dirty Dozen|1967|\n",
            "|[Burt Lancaster, ...|   [Disaster]|             Airport|1970|\n",
            "|[Jimi Hendrix, Th...|[Documentary]|           Woodstock|1970|\n",
            "|[Steve McQueen, P...|   [Disaster]|The Towering Inferno|1974|\n",
            "|[Peter Falk, Pete...|     [Comedy]|     Murder by Death|1976|\n",
            "|[Nick Nolte, Pete...|      [Drama]|  Rich Man, Poor Man|1976|\n",
            "|[Mel Brooks, Dom ...|     [Comedy]|        Silent Movie|1976|\n",
            "|[LeVar Burton, Lo...|      [Drama]|               Roots|1977|\n",
            "|[Tim Matheson, To...|     [Comedy]|National Lampoon'...|1978|\n",
            "|[Marlon Brando, G...|  [Superhero]|            Superman|1978|\n",
            "|[Michael Caine, H...|   [Disaster]|           The Swarm|1978|\n",
            "|[Carol Burnett, L...|     [Comedy]|           A Wedding|1978|\n",
            "|[John Belushi, Ne...|     [Comedy]|                1941|1979|\n",
            "+--------------------+-------------+--------------------+----+\n",
            "only showing top 20 rows\n",
            "\n"
          ]
        }
      ]
    },
    {
      "cell_type": "markdown",
      "source": [
        "5. Hãy chỉ ra bộ phim có tên dài nhất?"
      ],
      "metadata": {
        "id": "HIGBF4Udj7a2"
      }
    },
    {
      "cell_type": "code",
      "source": [
        "df_len = df.withColumn(\"length\", length(\"title\"))\n",
        "maxlen = df_len.agg(max(\"length\")).collect()[0]\n",
        "df_len.where(col(\"length\")==maxlen['max(length)']).select('title').show()"
      ],
      "metadata": {
        "colab": {
          "base_uri": "https://localhost:8080/"
        },
        "id": "UFhw6GzRmxAA",
        "outputId": "ee77ed18-66cb-467e-e25e-aca5cca84b7d"
      },
      "execution_count": null,
      "outputs": [
        {
          "output_type": "stream",
          "name": "stdout",
          "text": [
            "+--------------------+\n",
            "|               title|\n",
            "+--------------------+\n",
            "|Cornell-Columbia-...|\n",
            "+--------------------+\n",
            "\n"
          ]
        }
      ]
    },
    {
      "cell_type": "markdown",
      "source": [
        "6. Hãy chỉ ra những bộ phim có từ \"fighting\" ?"
      ],
      "metadata": {
        "id": "m2nkgLe7j-hP"
      }
    },
    {
      "cell_type": "code",
      "source": [
        "df.filter(lower(df.title).contains(\"fighting\")).show()"
      ],
      "metadata": {
        "colab": {
          "base_uri": "https://localhost:8080/"
        },
        "id": "DRCEKlC1oDWi",
        "outputId": "c7fb9a62-2492-43dc-b621-d0644d6cad84"
      },
      "execution_count": null,
      "outputs": [
        {
          "output_type": "stream",
          "name": "stdout",
          "text": [
            "+--------------------+---------------+--------------------+----+\n",
            "|                cast|         genres|               title|year|\n",
            "+--------------------+---------------+--------------------+----+\n",
            "|[Bessie Love, Ann...|[Comedy, Drama]|  A Fighting Colleen|1919|\n",
            "|[Blanche Sweet, R...|      [Western]|     Fighting Cressy|1919|\n",
            "|[Harry T. Morey, ...|        [Drama]|    Fighting Destiny|1919|\n",
            "|[Tom Mix, Teddy S...|      [Western]|   Fighting for Gold|1919|\n",
            "|[Jack Perrin, Hoo...|      [Western]|  The Fighting Heart|1919|\n",
            "|[Art Acord, Mildr...|      [Western]|   The Fighting Line|1919|\n",
            "|[William Duncan, ...|       [Action]|  The Fighting Guide|1922|\n",
            "|[Tom Mix, Patsy R...|      [Western]| The Fighting Streak|1922|\n",
            "|[Richard Barthelm...|   [Historical]|  The Fighting Blade|1923|\n",
            "|[Ernest Torrence,...|       [Comedy]| The Fighting Coward|1924|\n",
            "|[Jack Hoxie, Hele...|      [Western]|       Fighting Fury|1924|\n",
            "|[Pat O'Malley, Ma...|        [Drama]|The Fighting Adve...|1924|\n",
            "|[Fred Thomson, Ha...|      [Western]|    The Fighting Sap|1924|\n",
            "|[Richard Talmadge...|       [Action]|  The Fighting Demon|1925|\n",
            "|[Billy Sullivan, ...|       [Sports]|       Fighting Fate|1925|\n",
            "|[George O'Brien, ...|        [Drama]|  The Fighting Heart|1925|\n",
            "|[Bob Reeves, Lew ...|      [Western]|       Fighting Luck|1925|\n",
            "|[Bill Cody, Jean ...|      [Western]|  The Fighting Smile|1925|\n",
            "|[William Haines, ...|        [Drama]| Fighting the Flames|1925|\n",
            "|[William Fairbank...|       [Action]|      Fighting Youth|1925|\n",
            "+--------------------+---------------+--------------------+----+\n",
            "only showing top 20 rows\n",
            "\n"
          ]
        }
      ]
    },
    {
      "cell_type": "markdown",
      "source": [
        "7. Hãy chỉ ra các thể loại có trong bộ dữ liệu ?"
      ],
      "metadata": {
        "id": "S0t5PV2Vj--r"
      }
    },
    {
      "cell_type": "code",
      "source": [
        "df.select(explode(\"genres\").alias(\"genres\")).distinct().show()"
      ],
      "metadata": {
        "colab": {
          "base_uri": "https://localhost:8080/"
        },
        "id": "bar5JcQnobv_",
        "outputId": "0eeca725-c8a6-4549-cf9d-a883f084c09d"
      },
      "execution_count": null,
      "outputs": [
        {
          "output_type": "stream",
          "name": "stdout",
          "text": [
            "+-------------+\n",
            "|       genres|\n",
            "+-------------+\n",
            "|        Crime|\n",
            "|      Romance|\n",
            "|     Thriller|\n",
            "|      Slasher|\n",
            "|Found Footage|\n",
            "|    Adventure|\n",
            "|         Teen|\n",
            "| Martial Arts|\n",
            "|       Sports|\n",
            "|        Drama|\n",
            "|          War|\n",
            "|  Documentary|\n",
            "|       Family|\n",
            "|      Fantasy|\n",
            "|       Silent|\n",
            "|     Disaster|\n",
            "|        Legal|\n",
            "|      Mystery|\n",
            "| Supernatural|\n",
            "|     Suspense|\n",
            "+-------------+\n",
            "only showing top 20 rows\n",
            "\n"
          ]
        }
      ]
    },
    {
      "cell_type": "markdown",
      "source": [
        "8. Hãy chỉ ra những bộ phim có diễn viên **Harrison Ford** tham gia"
      ],
      "metadata": {
        "id": "rqHI5lXKj_Oq"
      }
    },
    {
      "cell_type": "code",
      "source": [
        "temp = df.filter(array_contains(df.cast,\"Harrison Ford\"))\n",
        "temp.select(\"title\").show()"
      ],
      "metadata": {
        "colab": {
          "base_uri": "https://localhost:8080/"
        },
        "id": "mIASKehmpFTp",
        "outputId": "1135e2eb-d4b5-4abb-e7b2-afc524e902e5"
      },
      "execution_count": null,
      "outputs": [
        {
          "output_type": "stream",
          "name": "stdout",
          "text": [
            "+--------------------+\n",
            "|               title|\n",
            "+--------------------+\n",
            "|Experimental Marr...|\n",
            "| Happiness a la Mode|\n",
            "|Romance and Arabella|\n",
            "|      The Third Kiss|\n",
            "|The Veiled Adventure|\n",
            "|          Who Cares?|\n",
            "|You Never Saw Suc...|\n",
            "| The Wonderful Thing|\n",
            "|      Find the Woman|\n",
            "| The Primitive Lover|\n",
            "|     Smilin' Through|\n",
            "|     When Love Comes|\n",
            "| Little Old New York|\n",
            "|     Three Miles Out|\n",
            "|           The Wheel|\n",
            "|       Almost a Lady|\n",
            "| Hell's Four Hundred|\n",
            "|   The Nervous Wreck|\n",
            "|  Up in Mabel's Room|\n",
            "|         Golf Widows|\n",
            "+--------------------+\n",
            "only showing top 20 rows\n",
            "\n"
          ]
        }
      ]
    },
    {
      "cell_type": "markdown",
      "source": [
        "9. Hãy chỉ ra những bộ phim có diễn viên tham gia có tên chứa từ \"Lewis\" ?"
      ],
      "metadata": {
        "id": "BGpZJi0-j_jZ"
      }
    },
    {
      "cell_type": "code",
      "source": [
        "temp = df.withColumn(\"name_cast\",explode(df.cast))\n",
        "temp.filter(lower(temp.name_cast).contains(\"lewis\")).select(\"title\").show()"
      ],
      "metadata": {
        "colab": {
          "base_uri": "https://localhost:8080/"
        },
        "id": "ZL5uItrGpnxp",
        "outputId": "8467882b-e350-4eb8-b192-327d33a5043c"
      },
      "execution_count": null,
      "outputs": [
        {
          "output_type": "stream",
          "name": "stdout",
          "text": [
            "+--------------------+\n",
            "|               title|\n",
            "+--------------------+\n",
            "|       The Butterfly|\n",
            "|The Exploits of E...|\n",
            "| Mein Lieber Katrina|\n",
            "|      Going Straight|\n",
            "|Gretchen the Gree...|\n",
            "|     A Sister of Six|\n",
            "| The Bride's Silence|\n",
            "|Nine-Tenths of th...|\n",
            "|The Faith of the ...|\n",
            "|         The Hoodlum|\n",
            "|Jacques of the Si...|\n",
            "|The Last of His P...|\n",
            "|        Man's Desire|\n",
            "|   Yvonne from Paris|\n",
            "|Nine-Tenths of th...|\n",
            "|                 813|\n",
            "|    Huckleberry Finn|\n",
            "|             Salvage|\n",
            "|The Five Dollar Baby|\n",
            "|    A Fool There Was|\n",
            "+--------------------+\n",
            "only showing top 20 rows\n",
            "\n"
          ]
        }
      ]
    },
    {
      "cell_type": "markdown",
      "source": [
        "10. Top 5 diễn viên tham gia nhiều bộ phim nhất ?"
      ],
      "metadata": {
        "id": "EFB3fK5qj_1H"
      }
    },
    {
      "cell_type": "code",
      "source": [
        "temp = df.withColumn(\"actor\", explode(df.cast))\n",
        "temp.groupby(\"actor\").count().sort('count', ascending = False).show(5)"
      ],
      "metadata": {
        "colab": {
          "base_uri": "https://localhost:8080/"
        },
        "id": "CUF7bMZop75e",
        "outputId": "9b021b8f-c073-485a-c65e-8323b53b1b30"
      },
      "execution_count": null,
      "outputs": [
        {
          "output_type": "stream",
          "name": "stdout",
          "text": [
            "+----------------+-----+\n",
            "|           actor|count|\n",
            "+----------------+-----+\n",
            "|    Harold Lloyd|  190|\n",
            "|     Hoot Gibson|  142|\n",
            "|      John Wayne|  136|\n",
            "|Charles Starrett|  116|\n",
            "|    Bebe Daniels|  103|\n",
            "+----------------+-----+\n",
            "only showing top 5 rows\n",
            "\n"
          ]
        }
      ]
    }
  ]
}